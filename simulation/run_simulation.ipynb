{
 "cells": [
  {
   "cell_type": "markdown",
   "metadata": {},
   "source": [
    "# Simulation notebook"
   ]
  },
  {
   "cell_type": "markdown",
   "metadata": {},
   "source": [
    "## 1. Define hyper-parameters"
   ]
  },
  {
   "cell_type": "code",
   "execution_count": 1,
   "metadata": {},
   "outputs": [],
   "source": [
    "n = 1000 # Sample size\n",
    "T = 5 # number of stages\n",
    "match_mode, match_prob = 'binom', 0.5  # Assignments A match with optimal decisions O at Binom(0.5) rate\n",
    "homo = False # whether the optimal treatment regime are homogeneous or heterogeneous\n",
    "linear = False # whether the optimla treatment regime are linear or nonlinear\n",
    "V = 20 # number of covariates of the optimal treatment regime, i.e., X dimension\n",
    "IS_num = 0 # number of important stages\n",
    "seed = 0"
   ]
  },
  {
   "cell_type": "markdown",
   "metadata": {},
   "source": [
    "## 2. Generate data"
   ]
  },
  {
   "cell_type": "code",
   "execution_count": 2,
   "metadata": {},
   "outputs": [
    {
     "name": "stdout",
     "output_type": "stream",
     "text": [
      "Matching prob:   [0.03125 0.15625 0.3125  0.3125  0.15625 0.03125]\n",
      "Using nonlinear optimal rule\n",
      "Using heterogeneous optimal rule\n",
      "Stage Weights:  [0.2 0.2 0.2 0.2 0.2]\n",
      "Positive Assignment:   [0.488 0.508 0.511 0.48  0.507]\n"
     ]
    }
   ],
   "source": [
    "import utils\n",
    "from importlib import reload\n",
    "reload(utils)\n",
    "\n",
    "utils.define_global_variables(n, T, V, IS_num)\n",
    "matching_prob = utils.generate_matching_probability(match_mode, match_prob, seed)\n",
    "print(\"Matching prob:  \", matching_prob) # PMF of binom(p)\n",
    "\n",
    "utils.generate_data(matching_prob=matching_prob, homo=homo, linear=linear, seed=seed)\n",
    "utils.train_test_split_data(seed=seed)\n",
    "# Check whether the optimal treatment regime are balanced (not biased towards one single decision)\n",
    "print(\"Positive Assignment:  \", (utils.O==1).detach().cpu().numpy().mean(axis=0)) "
   ]
  },
  {
   "cell_type": "code",
   "execution_count": 3,
   "metadata": {},
   "outputs": [
    {
     "data": {
      "image/png": "[encoded data removed]",
      "text/plain": [
       "<Figure size 2000x300 with 6 Axes>"
      ]
     },
     "metadata": {},
     "output_type": "display_data"
    }
   ],
   "source": [
    "''' Visualize the stage-wise rewards\n",
    "From the results, it can seen the first and third stage is the important stage,\n",
    "having a larger scale of rewards. The total rewards have three modalitilies\n",
    "1. both important stage matched\n",
    "2. Either matched\n",
    "3. neither matched\n",
    "'''\n",
    "import matplotlib.pyplot as plt\n",
    "\n",
    "fig, axes = plt.subplots(1, T+1, figsize = (4*T, 3))\n",
    "for t in range(T):\n",
    "    axes[t].hist(utils.r[:,t])\n",
    "    axes[t].set_title(f\"Stage-{t+1} - Immediate rewards\")\n",
    "axes[-1].hist(utils.R, bins=100)\n",
    "axes[-1].set_title(\"Total rewards\")\n",
    "plt.show()"
   ]
  },
  {
   "cell_type": "markdown",
   "metadata": {},
   "source": [
    "## 3. Run proposed method"
   ]
  },
  {
   "cell_type": "code",
   "execution_count": 4,
   "metadata": {},
   "outputs": [],
   "source": [
    "import torch\n",
    "import torch.nn as nn\n",
    "device = torch.device(\"cuda\" if torch.cuda.is_available() else \"cpu\")\n",
    "\n",
    "import NN\n",
    "reload(NN)\n",
    "NN.reload(utils)"
   ]
  },
  {
   "cell_type": "markdown",
   "metadata": {},
   "source": [
    "### 3.1 SAL"
   ]
  },
  {
   "cell_type": "code",
   "execution_count": 5,
   "metadata": {},
   "outputs": [
    {
     "name": "stdout",
     "output_type": "stream",
     "text": [
      "Epoch 0 (lr:    0.005000):  Loss: -170.466 (O-Acc: 69.17%, Imp-Acc: nan%, K-acc: 98.50% VF: 0.384)\tVal-Loss: -22.221 (O-Acc: 66.50%, Imp-Acc: nan%, VF: 0.361)\n",
      "Epoch 200 (lr:    0.004878):  Loss: -195.571 (O-Acc: 80.35%, Imp-Acc: nan%, K-acc: 99.88% VF: 0.607)\tVal-Loss: -23.110 (O-Acc: 79.50%, Imp-Acc: nan%, VF: 0.621)\n",
      "Epoch 400 (lr:    0.004523):  Loss: -201.237 (O-Acc: 80.97%, Imp-Acc: nan%, K-acc: 99.75% VF: 0.620)\tVal-Loss: -23.911 (O-Acc: 79.50%, Imp-Acc: nan%, VF: 0.621)\n",
      "Epoch 600 (lr:    0.003969):  Loss: -203.935 (O-Acc: 81.55%, Imp-Acc: nan%, K-acc: 99.88% VF: 0.631)\tVal-Loss: -24.248 (O-Acc: 80.50%, Imp-Acc: nan%, VF: 0.641)\n",
      "Validation Loss:  -24.140\n",
      "SAL Complete\n",
      "Train-{'Acc': 79.425, 'Imp-Acc': nan, 'VF': 0.585, 'VF-obs': 0.006, 'VF-optim': 0.996}\n",
      "Test-{'Acc': 80.0, 'Imp-Acc': nan, 'VF': 0.585, 'VF-obs': -0.006, 'VF-optim': 0.983}\n",
      "\n"
     ]
    }
   ],
   "source": [
    "f_class = nn.Linear if homo else NN.TLinear\n",
    "SAL = NN.trainNN(NN.DTRModel, V, [1], NN.SALoss, pi=None, sw=None, Rest=utils.R.mean(), theta=1,\n",
    "    lr=5e-3, epochs=800, weight_decay=1e-8, T_max=2000, small=1e-10, f_class=f_class,\n",
    "    verbose = True, verboseFunc=NN.DTRVerbose, display_intvl=200, seed=48, device='cpu')\n",
    "res = NN.DTREval2(SAL, seed=seed)\n",
    "print(\"SAL Complete\\nTrain-{}\\nTest-{}\\n\".format(res['train'], res['test']))    "
   ]
  },
  {
   "cell_type": "markdown",
   "metadata": {},
   "source": [
    "### 3.2. SWL"
   ]
  },
  {
   "cell_type": "code",
   "execution_count": 6,
   "metadata": {},
   "outputs": [
    {
     "name": "stdout",
     "output_type": "stream",
     "text": [
      "Epoch 0 (lr:    0.010000, 0/0):  MSE: 1.936 (Val: 1.818)\tIS: [0 2 4 1 3]\t\n",
      "[[0.19521977 0.20318703 0.19521993 0.20318703 0.20318627]]\n",
      "Epoch 200 (lr:    0.008536, 0/0):  MSE: 0.129 (Val: 0.148)\tIS: [0 2 3 1 4]\t\n",
      "[[0.14070216 0.20923263 0.15441431 0.18143255 0.3142184 ]]\n",
      "Epoch 400 (lr:    0.005000, 0/0):  MSE: 0.122 (Val: 0.178)\tIS: [0 2 3 1 4]\t\n",
      "[[0.12162028 0.20425855 0.17035784 0.19710356 0.30665988]]\n",
      "Epoch 600 (lr:    0.001464, 0/0):  MSE: 0.127 (Val: 0.170)\tIS: [0 2 3 1 4]\t\n",
      "[[0.11600672 0.20781589 0.16661674 0.2029289  0.3066318 ]]\n",
      "Epoch 800 (lr:    0.000000, 0/0):  MSE: 0.127 (Val: 0.198)\tIS: [0 2 3 1 4]\t\n",
      "[[0.11473492 0.20935166 0.17093353 0.2024265  0.30255336]]\n",
      "Epoch 1000 (lr:    0.001464, 0/0):  MSE: 0.123 (Val: 0.192)\tIS: [0 2 1 3 4]\t\n",
      "[[0.1150247  0.2022071  0.17454538 0.20529853 0.3029243 ]]\n",
      "Validation Loss:  0.176\n",
      "WeightNN Complete - Overlapp:  0 out of 0 important stages\n"
     ]
    }
   ],
   "source": [
    "# Learn the stage weights\n",
    "weightNN = NN.trainNN(NN.WeightNNModel, V, [8, 1], NN.WeightLoss, theta=0,\n",
    "                lr=1e-2, epochs=1200, weight_decay=1e-5, T_max=800, small=1e-8, f_class=nn.Linear,\n",
    "                verbose = True, verboseFunc=NN.WeightVerbose, display_intvl=200, seed=48)\n",
    "sw_pred = weightNN.getWeights()\n",
    "si_pred = sw_pred.argsort()[0]\n",
    "overlap_num = len(set(si_pred[-utils.num_important_stages:]).intersection(set(utils.si_arr)))\n",
    "# Check whether the trained weights can reflect the true underlying true important stages\n",
    "print(f\"WeightNN Complete - Overlapp:  {overlap_num} out of {IS_num} important stages\")        "
   ]
  },
  {
   "cell_type": "code",
   "execution_count": 7,
   "metadata": {},
   "outputs": [
    {
     "name": "stdout",
     "output_type": "stream",
     "text": [
      "Epoch 0 (lr:    0.005000):  Loss: -849.253 (O-Acc: 69.17%, Imp-Acc: nan%, K-acc: 98.50% VF: 0.384)\tVal-Loss: -110.577 (O-Acc: 66.50%, Imp-Acc: nan%, VF: 0.361)\n",
      "Epoch 200 (lr:    0.004878):  Loss: -978.996 (O-Acc: 80.35%, Imp-Acc: nan%, K-acc: 99.88% VF: 0.607)\tVal-Loss: -114.920 (O-Acc: 79.50%, Imp-Acc: nan%, VF: 0.621)\n",
      "Epoch 400 (lr:    0.004523):  Loss: -1008.571 (O-Acc: 80.97%, Imp-Acc: nan%, K-acc: 99.75% VF: 0.620)\tVal-Loss: -118.946 (O-Acc: 79.50%, Imp-Acc: nan%, VF: 0.621)\n",
      "Epoch 600 (lr:    0.003969):  Loss: -1022.869 (O-Acc: 81.55%, Imp-Acc: nan%, K-acc: 99.88% VF: 0.631)\tVal-Loss: -121.631 (O-Acc: 80.50%, Imp-Acc: nan%, VF: 0.641)\n",
      "Validation Loss:  -121.932\n",
      "SWL Complete\n",
      "{'Acc': 79.425, 'Imp-Acc': nan, 'VF': 0.585, 'VF-obs': 0.006, 'VF-optim': 0.996}\n",
      "{'Acc': 80.0, 'Imp-Acc': nan, 'VF': 0.585, 'VF-obs': -0.006, 'VF-optim': 0.983}\n",
      "\n"
     ]
    }
   ],
   "source": [
    "SWL = NN.trainNN(NN.DTRModel, V, [1], NN.SWLoss, pi=None, sw=torch.tensor(sw_pred*T), Rest=utils.R.mean(), theta=1,\n",
    "    lr=5e-3, epochs=800, weight_decay=1e-8, T_max=2000, small=1e-10, f_class=f_class,\n",
    "    verbose = True, verboseFunc=NN.DTRVerbose, display_intvl=200, seed=48, device='cpu')\n",
    "res = NN.DTREval2(SWL, seed=seed) \n",
    "print(\"SWL Complete\\n{}\\n{}\\n\".format(res['train'], res['test']))"
   ]
  },
  {
   "cell_type": "markdown",
   "metadata": {},
   "source": [
    "## 4. Run competing methods"
   ]
  },
  {
   "cell_type": "code",
   "execution_count": 8,
   "metadata": {},
   "outputs": [
    {
     "name": "stderr",
     "output_type": "stream",
     "text": [
      "R[write to console]: Loading required package: modelObj\n",
      "\n"
     ]
    }
   ],
   "source": [
    "from IPython import get_ipython\n",
    "kernel = get_ipython()\n",
    "kernel.run_line_magic('load_ext', 'rpy2.ipython')\n",
    "\n",
    "import CompetingMethod\n",
    "reload(CompetingMethod)\n",
    "CompetingMethod.set_kernel(kernel) # need kernel to run R in the background\n",
    "\n",
    "CompetingMethod.set_utils(utils)\n",
    "CompetingMethod.update_global_variable()"
   ]
  },
  {
   "cell_type": "markdown",
   "metadata": {},
   "source": [
    "### 4.1 Q-learning"
   ]
  },
  {
   "cell_type": "code",
   "execution_count": 9,
   "metadata": {},
   "outputs": [
    {
     "name": "stdout",
     "output_type": "stream",
     "text": [
      "Q-learning Complete\n",
      "Train-{'Acc': 58.4, 'Imp-Acc': nan, 'VF': 0.167, 'VF-obs': 0.006, 'VF-optim': 0.996}\n",
      "Test-{'Acc': 58.5, 'Imp-Acc': nan, 'VF': 0.156, 'VF-obs': -0.006, 'VF-optim': 0.983}\n",
      "\n"
     ]
    }
   ],
   "source": [
    "res = CompetingMethod.QL_unshared(seed=seed)\n",
    "print(\"Q-learning Complete\\nTrain-{}\\nTest-{}\\n\".format(res['train'],res['test']))"
   ]
  },
  {
   "cell_type": "markdown",
   "metadata": {},
   "source": [
    "### 4.2 C-learning\n",
    "#### Parametric"
   ]
  },
  {
   "cell_type": "code",
   "execution_count": 10,
   "metadata": {},
   "outputs": [
    {
     "name": "stderr",
     "output_type": "stream",
     "text": [
      "R[write to console]: ##  rgenoud (Version 5.9-0.10, Build Date: 2023-12-13)\n",
      "##  See http://sekhon.berkeley.edu/rgenoud for additional documentation.\n",
      "##  Please cite software as:\n",
      "##   Walter Mebane, Jr. and Jasjeet S. Sekhon. 2011.\n",
      "##   ``Genetic Optimization Using Derivatives: The rgenoud package for R.''\n",
      "##   Journal of Statistical Software, 42(11): 1-26. \n",
      "##\n",
      "\n",
      "\n",
      "R[write to console]: randomForest 4.7-1.2\n",
      "\n",
      "R[write to console]: Type rfNews() to see new features/changes/bug fixes.\n",
      "\n"
     ]
    },
    {
     "name": "stdout",
     "output_type": "stream",
     "text": [
      "C-learning Complete\n",
      "Train-{'Acc': 74.275, 'Imp-Acc': nan, 'VF': 0.483, 'VF-obs': 0.006, 'VF-optim': 0.996}\n",
      "Test-{'Acc': 73.625, 'Imp-Acc': nan, 'VF': 0.455, 'VF-obs': -0.006, 'VF-optim': 0.983}\n",
      "\n"
     ]
    }
   ],
   "source": [
    "res = CompetingMethod.CLearning(seed=seed, nonParam='FALSE')\n",
    "print(\"C-learning Complete\\nTrain-{}\\nTest-{}\\n\".format(res['train'],res['test']))"
   ]
  },
  {
   "cell_type": "markdown",
   "metadata": {},
   "source": [
    "#### Non-parametric"
   ]
  },
  {
   "cell_type": "code",
   "execution_count": 11,
   "metadata": {},
   "outputs": [
    {
     "name": "stdout",
     "output_type": "stream",
     "text": [
      "C-learning Complete\n",
      "Train-{'Acc': 71.45, 'Imp-Acc': nan, 'VF': 0.428, 'VF-obs': 0.006, 'VF-optim': 0.996}\n",
      "Test-{'Acc': 69.875, 'Imp-Acc': nan, 'VF': 0.382, 'VF-obs': -0.006, 'VF-optim': 0.983}\n",
      "\n"
     ]
    }
   ],
   "source": [
    "res = CompetingMethod.CLearning(seed=seed, nonParam='TRUE')\n",
    "print(\"C-learning Complete\\nTrain-{}\\nTest-{}\\n\".format(res['train'],res['test']))"
   ]
  },
  {
   "cell_type": "markdown",
   "metadata": {},
   "source": [
    "### 4.3 BOWL / SOWL\n",
    "Backward/simultaneous outcome weighted learning"
   ]
  },
  {
   "cell_type": "code",
   "execution_count": 12,
   "metadata": {},
   "outputs": [
    {
     "name": "stdout",
     "output_type": "stream",
     "text": [
      "BOWL Complete\n",
      "Train-{'Acc': 73.425, 'Imp-Acc': nan, 'VF': 0.466, 'VF-obs': 0.006, 'VF-optim': 0.996}\n",
      "Test-{'Acc': 70.5, 'Imp-Acc': nan, 'VF': 0.392, 'VF-obs': -0.006, 'VF-optim': 0.983}\n",
      "\n",
      "SOWL Complete\n",
      "Train-{'Acc': 49.3, 'Imp-Acc': nan, 'VF': -0.014, 'VF-obs': 0.006, 'VF-optim': 0.996}\n",
      "Test-{'Acc': 48.25, 'Imp-Acc': nan, 'VF': -0.048, 'VF-obs': -0.006, 'VF-optim': 0.983}\n",
      "\n"
     ]
    }
   ],
   "source": [
    "res = CompetingMethod.BOWL(seed=seed)\n",
    "print(\"BOWL Complete\\nTrain-{}\\nTest-{}\\n\".format(res['train'],res['test']))\n",
    "\n",
    "res = CompetingMethod.SOWL(seed=seed)\n",
    "print(\"SOWL Complete\\nTrain-{}\\nTest-{}\\n\".format(res['train'],res['test']))"
   ]
  },
  {
   "cell_type": "markdown",
   "metadata": {},
   "source": [
    "### 4.4 RWL (residual weighted learning)"
   ]
  },
  {
   "cell_type": "code",
   "execution_count": 13,
   "metadata": {},
   "outputs": [
    {
     "name": "stdout",
     "output_type": "stream",
     "text": [
      "RWL Complete\n",
      "Train-{'Acc': 71.2, 'Imp-Acc': nan, 'VF': 0.42, 'VF-obs': 0.006, 'VF-optim': 0.996}\n",
      "Test-{'Acc': 71.875, 'Imp-Acc': nan, 'VF': 0.42, 'VF-obs': -0.006, 'VF-optim': 0.983}\n",
      "\n"
     ]
    }
   ],
   "source": [
    "res = CompetingMethod.RWL(seed=seed)\n",
    "print(\"RWL Complete\\nTrain-{}\\nTest-{}\\n\".format(res['train'],res['test']))"
   ]
  },
  {
   "cell_type": "markdown",
   "metadata": {},
   "source": [
    "### 4.5 AIPWE (augmented IPWE - robust esitmators)"
   ]
  },
  {
   "cell_type": "code",
   "execution_count": 14,
   "metadata": {},
   "outputs": [
    {
     "name": "stdout",
     "output_type": "stream",
     "text": [
      "AIPW Complete\n",
      "Train-{'Acc': 60.975, 'Imp-Acc': nan, 'VF': 0.219, 'VF-obs': 0.006, 'VF-optim': 0.996}\n",
      "Test-{'Acc': 59.25, 'Imp-Acc': nan, 'VF': 0.171, 'VF-obs': -0.006, 'VF-optim': 0.983}\n",
      "\n"
     ]
    }
   ],
   "source": [
    "res = CompetingMethod.AIPWClass(seed=seed)\n",
    "print(\"AIPW Complete\\nTrain-{}\\nTest-{}\\n\".format(res['train'],res['test']))"
   ]
  },
  {
   "cell_type": "markdown",
   "metadata": {},
   "source": [
    "### 4.6 DQN (Deep Q-Network - infinite horizon)\n"
   ]
  },
  {
   "cell_type": "code",
   "execution_count": 15,
   "metadata": {},
   "outputs": [
    {
     "name": "stdout",
     "output_type": "stream",
     "text": [
      "train done\n",
      "DQN Complete\n",
      "Train-{'Acc': 67.2, 'Imp-Acc': nan, 'VF': 0.342, 'VF-obs': 0.006, 'VF-optim': 0.996}\n",
      "Test-{'Acc': 64.875, 'Imp-Acc': nan, 'VF': 0.283, 'VF-obs': -0.006, 'VF-optim': 0.983}\n",
      "\n"
     ]
    }
   ],
   "source": [
    "res = CompetingMethod.train_DQN(seed=seed)\n",
    "print(\"DQN Complete\\nTrain-{}\\nTest-{}\\n\".format(res['train'],res['test']))"
   ]
  }
 ],
 "metadata": {
  "kernelspec": {
   "display_name": "dev",
   "language": "python",
   "name": "python3"
  },
  "language_info": {
   "codemirror_mode": {
    "name": "ipython",
    "version": 3
   },
   "file_extension": ".py",
   "mimetype": "text/x-python",
   "name": "python",
   "nbconvert_exporter": "python",
   "pygments_lexer": "ipython3",
   "version": "3.9.19"
  }
 },
 "nbformat": 4,
 "nbformat_minor": 2
}
